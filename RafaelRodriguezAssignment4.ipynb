{
  "nbformat": 4,
  "nbformat_minor": 0,
  "metadata": {
    "kernelspec": {
      "display_name": "Python 3",
      "name": "python3"
    },
    "language_info": {
      "codemirror_mode": {
        "name": "ipython",
        "version": 3
      },
      "file_extension": ".py",
      "mimetype": "text/x-python",
      "name": "python",
      "nbconvert_exporter": "python",
      "pygments_lexer": "ipython3",
      "version": "3.7.4"
    },
    "colab": {
      "provenance": [],
      "gpuType": "V100"
    },
    "accelerator": "GPU"
  },
  "cells": [
    {
      "cell_type": "markdown",
      "metadata": {
        "id": "Tajfsk_7JY3E"
      },
      "source": [
        "**Note to grader:** Each question is assigned with a score. The final score will be (sum of actual scores)/(sum of maximum scores)*100. The grading rubrics are shown in the TA guidelines."
      ]
    },
    {
      "cell_type": "markdown",
      "metadata": {
        "id": "SArgW_Vq-uTh"
      },
      "source": [
        "# **Assignment 4**\n",
        "\n",
        "The goal of this assignment is to run some experiments with scikit-learn on a fairly sizeable and interesting image data set. This is the MNIST data set that consists of lots of images, each having 28x28 pixels. By today's standards, this may seem relatively tiny, but only a few years ago was quite challenging computationally, and it motivated the development of several ML algorithms and models that are now state-of-the-art  solutions for much bigger data sets.\n",
        "\n",
        "The assignment is experimental. We will try to whether a combination of PCA and kNN can yield any good results for the MNIST data set. Let's see if it can be made to work on this data set.\n",
        "\n",
        "Note: There are less difficult Python parts in this assignment. You can get things done by just repeating things from the class notebooks. But your participation and interaction via Canvas is always appreciated!"
      ]
    },
    {
      "cell_type": "markdown",
      "metadata": {
        "id": "IlFM4hig-uTj"
      },
      "source": [
        "## Preparation Steps"
      ]
    },
    {
      "cell_type": "code",
      "metadata": {
        "id": "E3alYkjM-uTk"
      },
      "source": [
        "# Import all necessary python packages\n",
        "import numpy as np\n",
        "#import os\n",
        "#import pandas as pd\n",
        "#import matplotlib.pyplot as plt\n",
        "#from matplotlib.colors import ListedColormap\n",
        "#from sklearn.linear_model import LogisticRegression"
      ],
      "execution_count": null,
      "outputs": []
    },
    {
      "cell_type": "code",
      "metadata": {
        "id": "4JEBC9tZEZel",
        "colab": {
          "base_uri": "https://localhost:8080/"
        },
        "outputId": "d239e4b1-1e70-4a96-b171-0ee791bc2f7d"
      },
      "source": [
        "# we load the data set directly from scikit learn\n",
        "#\n",
        "# note: this operation may take a few seconds. If for any reason it fails we\n",
        "# can revert back to loading from local storage.\n",
        "\n",
        "from sklearn.datasets import fetch_openml\n",
        "from sklearn.model_selection import train_test_split\n",
        "\n",
        "\n",
        "X, y = fetch_openml('mnist_784', version=1, return_X_y=True)\n",
        "y = y.astype(int)\n",
        "X = ((X / 255.) - .5) * 2\n",
        "X_train, X_test, y_train, y_test = train_test_split(\n",
        "    X, y, test_size=10000, random_state=123, stratify=y)\n"
      ],
      "execution_count": null,
      "outputs": [
        {
          "output_type": "stream",
          "name": "stderr",
          "text": [
            "/usr/local/lib/python3.10/dist-packages/sklearn/datasets/_openml.py:968: FutureWarning: The default value of `parser` will change from `'liac-arff'` to `'auto'` in 1.4. You can set `parser='auto'` to silence this warning. Therefore, an `ImportError` will be raised from 1.4 if the dataset is dense and pandas is not installed. Note that the pandas parser may return different data types. See the Notes Section in fetch_openml's API doc for details.\n",
            "  warn(\n"
          ]
        }
      ]
    },
    {
      "cell_type": "markdown",
      "metadata": {
        "id": "GfrfDK0P-uT5"
      },
      "source": [
        "## <font color = 'blue'> Question 1. Inspecting the Dataset （50 pts = 10 pts by 5 questions)</font>\n",
        "\n",
        "**(i)** How many data points are in the training and test sets ? <br>\n",
        "**(ii)** How many attributes does the data set have ?\n",
        "\n",
        "Exlain how you found the answer to the first two questions.\n",
        "\n",
        "[**Hint**: Use the 'shape' method associated with numpy arrays. ]\n",
        "\n",
        "**(iii)** How many different labels does this data set have. Can you demonsrate how to read that number from the vector of labels *y_train*?  <br>\n",
        "**(iv)** How does the number of attributes relates to the size of the images? <br>\n",
        "**(v)** What is the role of line 12 (X = ((X / 255.) - .5) * 2) in the above code?\n",
        "\n",
        "\n",
        "\n",
        "\n",
        "\n",
        "*(Please insert cells below for your answers. Clearly id the part of the question you answer)*"
      ]
    },
    {
      "cell_type": "code",
      "metadata": {
        "id": "4po5m-tq-uT6",
        "colab": {
          "base_uri": "https://localhost:8080/"
        },
        "outputId": "54e03cbb-0bef-4361-f23c-9b5332e652b8"
      },
      "source": [
        "print(\"This for Question 1 part i\")\n",
        "print(f\"The length of data points for training sets are {len(X_train)}\")\n",
        "print(f\"The length of data points for test sets are {len(X_test)}\")"
      ],
      "execution_count": null,
      "outputs": [
        {
          "output_type": "stream",
          "name": "stdout",
          "text": [
            "This for Question 1 part i\n",
            "The length of data points for training sets are 60000\n",
            "The length of data points for test sets are 10000\n"
          ]
        }
      ]
    },
    {
      "cell_type": "code",
      "source": [
        "print(\"This for Question 1 part ii\\n\")\n",
        "print(\"For the attributes of that dataset we can check the number of columns in the dataset since\\nthey are attributes and using .shape we can get the number of dimensions in the numpy array\\n\")\n",
        "print(f\"The number of attributes in the dataset is {X_train.shape[1]}\")"
      ],
      "metadata": {
        "colab": {
          "base_uri": "https://localhost:8080/"
        },
        "id": "XRp6mXQnb70P",
        "outputId": "cfe05741-eb3e-441a-bfc6-4b4fadf2d9b9"
      },
      "execution_count": null,
      "outputs": [
        {
          "output_type": "stream",
          "name": "stdout",
          "text": [
            "This for Question 1 part ii\n",
            "\n",
            "For the attributes of that dataset we can check the number of columns in the dataset since\n",
            "they are attributes and using .shape we can get the number of dimensions in the numpy array\n",
            "\n",
            "The number of attributes in the dataset is 784\n"
          ]
        }
      ]
    },
    {
      "cell_type": "code",
      "source": [
        "print(\"This for Question 1 part iii\\n\")\n",
        "print(f\"To see how many labels we have would be to see how many different outcomes we can get, and to not get any repeats we use unique to get the unique values and the labels are {y_train.unique()} and there are {len(y_train.unique())} labels\")"
      ],
      "metadata": {
        "colab": {
          "base_uri": "https://localhost:8080/"
        },
        "id": "S0Pq1_xzf9fi",
        "outputId": "27afa40e-4a2f-4883-e773-8318de1848d8"
      },
      "execution_count": null,
      "outputs": [
        {
          "output_type": "stream",
          "name": "stdout",
          "text": [
            "This for Question 1 part iii\n",
            "\n",
            "To see how many labels we have would be to see how many different outcomes we can get, and to not get any repeats we use unique to get the unique values and the labels are [4 8 7 0 5 2 6 9 3 1] and there are 10 labels\n"
          ]
        }
      ]
    },
    {
      "cell_type": "code",
      "source": [
        "print(\"This for Question 1 part iv\\n\")\n",
        "print(\"The number of attributes is related to the size of the image since the image is 28 by 28 pixels and if we multiply the height and width of the image we get the number of attributes which is 784\")"
      ],
      "metadata": {
        "colab": {
          "base_uri": "https://localhost:8080/"
        },
        "id": "NNFaxKKm6JQg",
        "outputId": "e244ae29-1ab0-482c-dde9-d0ad443a681e"
      },
      "execution_count": null,
      "outputs": [
        {
          "output_type": "stream",
          "name": "stdout",
          "text": [
            "This for Question 1 part iv\n",
            "\n",
            "The number of attributes is related to the size of the image since the image is 28 by 28 pixels and if we multiply the height and width of the image we get the number of attributes which is 784\n"
          ]
        }
      ]
    },
    {
      "cell_type": "code",
      "source": [
        "print(\"This for Question 1 part v\\n\")\n",
        "print(\"The role of line 12 (X = ((X / 255.) - .5) * 2) is to decrease the size of the array so the values are not so large and to make the training space a bit smaller\")"
      ],
      "metadata": {
        "colab": {
          "base_uri": "https://localhost:8080/"
        },
        "outputId": "d6c93b71-6f13-4837-e455-0c7a97e3ad4c",
        "id": "cjyg2Eww7D9q"
      },
      "execution_count": null,
      "outputs": [
        {
          "output_type": "stream",
          "name": "stdout",
          "text": [
            "This for Question 1 part v\n",
            "\n",
            "The role of line 12 (X = ((X / 255.) - .5) * 2) is to decrease the size of the array so the values are not so large and to make the training space a bit smaller\n"
          ]
        }
      ]
    },
    {
      "cell_type": "code",
      "metadata": {
        "id": "IllLoXxGAIIo"
      },
      "source": [
        "# For grader use only\n",
        "maxScore = maxScore + 50\n"
      ],
      "execution_count": null,
      "outputs": []
    },
    {
      "cell_type": "markdown",
      "metadata": {
        "id": "YMEcdAp3-uT-"
      },
      "source": [
        "##  <font color = 'blue'> Question 2. PCA on MNIST (10 pts) </font>\n",
        "\n",
        "Because the number of attributes of the MNIST data set may be too big to apply kNN on it (due to the 'curse of dimensionality'), we want to compress the images down to a smaller number of 'fake' attributes.\n",
        "\n",
        "Use scikit-learn to output a data set *X_train_transformed* and *X_test_transformed*, with $l$ attributes. Here a reasonable choice of $l$ is 10, equal to the number of labels. But you can try slightly smaller or bigger values as well.\n",
        "\n",
        "Print out the shape of *X_train_transformed* and *X_test_transformed*.\n",
        "\n",
        "\n",
        "**Hint**: Take a look at [this notebook](https://colab.research.google.com/drive/1DG5PjWejo8F7AhozHxj8329SuMtXZ874?usp=drive_fs), and imitate what we did there. Be careful though, to use only the scikit-learn demonstration, not the exhaustive PCA steps.\n",
        "\n",
        "**Note**: This computation can take a while. If problems are encountered we can try the same experiment on a downsized data set."
      ]
    },
    {
      "cell_type": "code",
      "source": [
        "from sklearn.decomposition import PCA\n",
        "l = 10 #number of attributes recommended since that is the number of labels we have\n",
        "pca = PCA(n_components=l) #using PCA will allow for a dimensionality reduction\n",
        "X_train_transformed = pca.fit_transform(X_train) #transform train and test X with the l attributes\n",
        "X_test_transformed = pca.transform(X_test)\n",
        "print(X_train_transformed.shape)\n",
        "print(X_test_transformed.shape)"
      ],
      "metadata": {
        "colab": {
          "base_uri": "https://localhost:8080/"
        },
        "id": "h1i5cBtP8EWZ",
        "outputId": "e937bc1a-0623-43da-836e-9950e515ffd5"
      },
      "execution_count": null,
      "outputs": [
        {
          "output_type": "stream",
          "name": "stdout",
          "text": [
            "(60000, 10)\n",
            "(10000, 10)\n"
          ]
        }
      ]
    },
    {
      "cell_type": "code",
      "metadata": {
        "id": "sBjMZF1wGaUp"
      },
      "source": [
        "# for grader use\n",
        "maxScore = maxScore + 10\n",
        "\n"
      ],
      "execution_count": null,
      "outputs": []
    },
    {
      "cell_type": "markdown",
      "metadata": {
        "id": "Pe9kKR3J-uUA"
      },
      "source": [
        "## <font color = 'blue'> Question 3. kNN on MNIST attributes from PCA （40 pts = 10 pts by 4 questions) </font>\n",
        "\n",
        "\n",
        "Having calculated the *transformed* MNIST data set we can now apply a kNN approach to the MNIST classification data set. Here are the sets:\n",
        "\n",
        "(i) Fit a $k$-NN classifier on the transformed data set. Here $k$ is a hyperparameter, and you can experiment with it. Be aware though, that larger $k$ can take more time to fit.\n",
        "\n",
        "(ii) Apply the classifier on the transformed test set. What is the classification accuracy?\n",
        "\n",
        "(iii) A theoretical question: if we skipped all the above steps and we just assigned a **random** label to each test point, what would the classification accuracy be on average?  Does your result (ii) beat the random expectation? (conduct 1000 trials to get the average accuracy)\n",
        "\n",
        "(iv) Experiment with different settings of $k$. Experiment design: calculates accuracy for increasing values of k; stops when k decreases for 5 values of k; report your findings in a separate cell.\n",
        "\n",
        "[**Hint**: Take a look at this [notebook](https://colab.research.google.com/drive/1Mh6I3bR8pE90kcs28JfKok59NtfV_7ct?usp=drive_fs)]\n"
      ]
    },
    {
      "cell_type": "code",
      "metadata": {
        "id": "5v7Q2NKp-uUM",
        "colab": {
          "base_uri": "https://localhost:8080/"
        },
        "outputId": "44e9dcca-ce2c-478b-d9bb-052db2691249"
      },
      "source": [
        "print(\"Question 3 Part i and ii\\n\")\n",
        "from sklearn.metrics import accuracy_score\n",
        "from sklearn.neighbors import KNeighborsClassifier\n",
        "knn = KNeighborsClassifier(n_neighbors=4,p=2)\n",
        "knn.fit(X_train_transformed, y_train)\n",
        "y_pred = knn.predict(X_test_transformed)\n",
        "accuracy = accuracy_score(y_test, y_pred)\n",
        "print(f\"The accurary of the classification on the transformed data set is {accuracy}\")\n",
        "print(\"\")\n",
        "print(\"Question 3 Part iii(1)\\n\")\n",
        "print(\"If you assigned a random label to each test point then you would get a classification accuracy of 10% since if you're randomly guessing then you're likely to get one of the ten options correct\")\n",
        "print(\"Question 3 Part iii(2)\\n\")\n",
        "avg_acc=0\n",
        "for i in range(1000):\n",
        "  knn = KNeighborsClassifier(n_neighbors=4,p=2)\n",
        "  knn.fit(X_train_transformed, y_train)\n",
        "  y_pred = knn.predict(X_test_transformed)\n",
        "  accuracy = accuracy_score(y_test, y_pred)\n",
        "  avg_acc+=accuracy\n",
        "print(f\"The average accuracy for 1000 trials to see if Knn would beat our random expectation is {avg_acc/1000}\")"
      ],
      "execution_count": null,
      "outputs": [
        {
          "output_type": "stream",
          "name": "stdout",
          "text": [
            "Question 3 Part i and ii\n",
            "\n",
            "The accurary of the classification on the transformed data set is 0.9314\n",
            "\n",
            "Question 3 Part iii(1)\n",
            "\n",
            "If you assigned a random label to each test point then you would get a classification accuracy of 10% since if you're randomly guessing then you're likely to get one of the ten options correct\n",
            "Question 3 Part iii(2)\n",
            "\n",
            "The average accuracy for 1000 trials to see if Knn would beat our random expectation is 0.9314000000000222\n"
          ]
        }
      ]
    },
    {
      "cell_type": "code",
      "source": [
        "print(\"Question 3 Part iv\\n\")\n",
        "knn = KNeighborsClassifier(n_neighbors=7,p=2)\n",
        "knn.fit(X_train_transformed, y_train)\n",
        "y_pred = knn.predict(X_test_transformed)\n",
        "accuracy = accuracy_score(y_test, y_pred)\n",
        "print(f\"The accurary of the classification on the transformed data set for k=7 is {accuracy}\")\n",
        "knn = KNeighborsClassifier(n_neighbors=2,p=2)\n",
        "knn.fit(X_train_transformed, y_train)\n",
        "y_pred = knn.predict(X_test_transformed)\n",
        "accuracy = accuracy_score(y_test, y_pred)\n",
        "print(f\"The accurary of the classification on the transformed data set for k=2 is {accuracy}\")\n",
        "print(\"The accuracy reported to be slighly higher with k increased over time\")"
      ],
      "metadata": {
        "colab": {
          "base_uri": "https://localhost:8080/"
        },
        "id": "mcqYb9H0Xot1",
        "outputId": "27a75307-a623-48ff-8e66-6954cd06c601"
      },
      "execution_count": null,
      "outputs": [
        {
          "output_type": "stream",
          "name": "stdout",
          "text": [
            "Question 3 Part iv\n",
            "\n",
            "The accurary of the classification on the transformed data set for k=7 is 0.9344\n",
            "The accurary of the classification on the transformed data set for k=2 is 0.9147\n",
            "The accuracy reported to be slighly higher with k increased over time\n"
          ]
        }
      ]
    },
    {
      "cell_type": "code",
      "metadata": {
        "id": "NuYcPkCaGe9p"
      },
      "source": [
        "# for grader use\n",
        "maxScore = maxScore + 40\n",
        "\n"
      ],
      "execution_count": null,
      "outputs": []
    },
    {
      "cell_type": "code",
      "metadata": {
        "id": "fydXo8GRGkbp"
      },
      "source": [
        "# for grader use\n",
        "\n",
        "score = actualScore*100/maxScore"
      ],
      "execution_count": null,
      "outputs": []
    }
  ]
}