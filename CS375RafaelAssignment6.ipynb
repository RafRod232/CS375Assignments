{
  "nbformat": 4,
  "nbformat_minor": 0,
  "metadata": {
    "kernelspec": {
      "display_name": "Python 3",
      "name": "python3"
    },
    "language_info": {
      "codemirror_mode": {
        "name": "ipython",
        "version": 3
      },
      "file_extension": ".py",
      "mimetype": "text/x-python",
      "name": "python",
      "nbconvert_exporter": "python",
      "pygments_lexer": "ipython3",
      "version": "3.7.4"
    },
    "colab": {
      "provenance": [],
      "gpuType": "T4"
    },
    "accelerator": "GPU"
  },
  "cells": [
    {
      "cell_type": "markdown",
      "metadata": {
        "id": "Tajfsk_7JY3E"
      },
      "source": [
        "Note to grader: Each question is assigned with a score. The final score will be (sum of actual scores)/(sum of maximum scores)*100. The grading rubrics are shown in the TA guidelines.\n"
      ]
    },
    {
      "cell_type": "code",
      "source": [
        "# Grader's area\n",
        "import numpy as np\n",
        "actualScore = 0\n",
        "maxScore = 0\n"
      ],
      "metadata": {
        "id": "zPnHTf9MfT5X"
      },
      "execution_count": null,
      "outputs": []
    },
    {
      "cell_type": "markdown",
      "metadata": {
        "id": "1NnOFlqPI1qn"
      },
      "source": [
        "# **Assignment 6**\n",
        "<br>\n",
        "\n",
        "<font>"
      ]
    },
    {
      "cell_type": "code",
      "metadata": {
        "id": "zSyX_FIzI1qn",
        "colab": {
          "base_uri": "https://localhost:8080/"
        },
        "outputId": "a194d747-ef8c-4722-8ea1-7e0bc413e758"
      },
      "source": [
        "from IPython.display import Math\n",
        "from IPython.display import Latex\n",
        "\n",
        "import numpy as np\n",
        "import os\n",
        "import struct\n",
        "\n",
        "from sklearn.metrics import classification_report,confusion_matrix\n",
        "from sklearn.neural_network import MLPClassifier\n",
        "\n",
        "import torch\n",
        "import torchvision\n",
        "import torchvision.transforms as transforms\n",
        "import torch.nn as nn\n",
        "import torch.nn.functional as F\n",
        "import torch.optim as optim\n",
        "\n",
        "import matplotlib.pyplot as plt\n",
        "import pandas as pd\n",
        "\n",
        "from sklearn.datasets import fetch_openml\n",
        "from sklearn.model_selection import train_test_split\n",
        "\n",
        "torch.manual_seed(0)"
      ],
      "execution_count": null,
      "outputs": [
        {
          "output_type": "execute_result",
          "data": {
            "text/plain": [
              "<torch._C.Generator at 0x7a24a53cc5f0>"
            ]
          },
          "metadata": {},
          "execution_count": 2
        }
      ]
    },
    {
      "cell_type": "markdown",
      "source": [
        "----------------\n",
        "----------------\n",
        "----------------"
      ],
      "metadata": {
        "id": "cc6kqRYyliiK"
      }
    },
    {
      "cell_type": "markdown",
      "metadata": {
        "id": "aXayK-GxI1qo"
      },
      "source": [
        "## <font color='blue'> **Question 1.** Visualizing convergence. </font>\n",
        "\n",
        "Modify this code so that in every epoch it records:\n",
        "\n",
        "**a.** The training loss, accuracy [10 pt] <br>\n",
        "**b.** The test loss, accuracy [10 pt]\n",
        "\n",
        "Then:\n",
        "\n",
        "**c.** Run the model for 20 epochs and give two plots (one for losses, one for accuracies) for the convergence behavior over 20 epochs. [10 pt]\n",
        "\n",
        "<br>\n",
        "\n",
        "**Note:**\n",
        "Make sure you avoid updating the weights when you use the test set. For that you should consult the notebook from CNNs lecture.\n",
        "\n",
        "\n"
      ]
    },
    {
      "cell_type": "code",
      "execution_count": null,
      "metadata": {
        "id": "Lcn-Ia3cfnLV",
        "colab": {
          "base_uri": "https://localhost:8080/"
        },
        "outputId": "d93ef5cb-6db8-42b4-9d50-66dbdae6f514"
      },
      "outputs": [
        {
          "output_type": "stream",
          "name": "stdout",
          "text": [
            "Files already downloaded and verified\n",
            "Files already downloaded and verified\n"
          ]
        }
      ],
      "source": [
        "transform = transforms.Compose(\n",
        "    [transforms.ToTensor(),\n",
        "     transforms.Normalize((0.5, 0.5, 0.5), (0.5, 0.5, 0.5))])\n",
        "\n",
        "batch_size = 4\n",
        "\n",
        "trainset = torchvision.datasets.CIFAR10(root='./data', train=True,\n",
        "                                        download=True, transform=transform)\n",
        "trainloader = torch.utils.data.DataLoader(trainset, batch_size=batch_size,\n",
        "                                          shuffle=True, num_workers=2)\n",
        "\n",
        "testset = torchvision.datasets.CIFAR10(root='./data', train=False,\n",
        "                                       download=True, transform=transform)\n",
        "testloader = torch.utils.data.DataLoader(testset, batch_size=batch_size,\n",
        "                                         shuffle=False, num_workers=2)\n",
        "\n",
        "classes = ('plane', 'car', 'bird', 'cat',\n",
        "           'deer', 'dog', 'frog', 'horse', 'ship', 'truck')"
      ]
    },
    {
      "cell_type": "code",
      "execution_count": null,
      "metadata": {
        "id": "Yh40HV0dfnLZ"
      },
      "outputs": [],
      "source": [
        "import torch.nn as nn\n",
        "import torch.nn.functional as F\n",
        "\n",
        "\n",
        "class Net(nn.Module):\n",
        "    def __init__(self):\n",
        "        super().__init__()\n",
        "        self.conv1 = nn.Conv2d(3, 6, 5)\n",
        "        self.pool = nn.MaxPool2d(2, 2)\n",
        "        self.conv2 = nn.Conv2d(6, 16, 5)\n",
        "        self.fc1 = nn.Linear(16 * 5 * 5, 120)\n",
        "        self.fc2 = nn.Linear(120, 84)\n",
        "        self.fc3 = nn.Linear(84, 10)\n",
        "\n",
        "    def forward(self, x):\n",
        "        x = self.pool(F.relu(self.conv1(x)))\n",
        "        x = self.pool(F.relu(self.conv2(x)))\n",
        "        x = torch.flatten(x, 1) # flatten all dimensions except batch\n",
        "        x = F.relu(self.fc1(x)) # activation function  for first scalar for first output prcocess\n",
        "        x = F.relu(self.fc2(x)) # activation function for second scalar for second output process, not our 10 classes yet\n",
        "        x = self.fc3(x) # last outout\n",
        "        return x\n",
        "# we go through the first conv layer then we activat func then get the max pooling, do it again for the second layer then flatten it to be scalar then we put the act fun over twice to then get the last output self.fc(x)\n",
        "# initialize the model\n",
        "net = Net()"
      ]
    },
    {
      "cell_type": "code",
      "execution_count": null,
      "metadata": {
        "id": "XjqjPvy9fnLa"
      },
      "outputs": [],
      "source": [
        "import torch.optim as optim\n",
        "criterion = nn.CrossEntropyLoss() # loss function to calclate loss\n",
        "optimizer = optim.SGD(net.parameters(), lr=0.001, momentum=0.9) # this our optimization function using SGD"
      ]
    },
    {
      "cell_type": "code",
      "execution_count": null,
      "metadata": {
        "id": "7A-T2D1CfnLa",
        "colab": {
          "base_uri": "https://localhost:8080/"
        },
        "outputId": "77cc800e-2ed3-4396-bd45-a38ab0fb5d98"
      },
      "outputs": [
        {
          "output_type": "stream",
          "name": "stdout",
          "text": [
            "[1,  2000] loss: 2.213\n",
            "[1,  4000] loss: 1.871\n",
            "[1,  6000] loss: 1.705\n",
            "[1,  8000] loss: 1.588\n",
            "[1, 10000] loss: 1.531\n",
            "[1, 12000] loss: 1.488\n",
            "Accuracy on test set after epoch 1: 48.76%\n",
            "[2,  2000] loss: 1.416\n",
            "[2,  4000] loss: 1.388\n",
            "[2,  6000] loss: 1.385\n",
            "[2,  8000] loss: 1.346\n",
            "[2, 10000] loss: 1.315\n",
            "[2, 12000] loss: 1.318\n",
            "Accuracy on test set after epoch 2: 54.03%\n",
            "Finished Training\n"
          ]
        }
      ],
      "source": [
        "for epoch in range(2):  # loop over the dataset multiple times\n",
        "  # Question 1 part A ***** CHANGED ORIGINAL CODE TO FIT PART  A ********\n",
        "    running_loss = 0.0\n",
        "    for i, data in enumerate(trainloader, 0):\n",
        "        # get the inputs; data is a list of [inputs, labels]\n",
        "        inputs, labels = data\n",
        "\n",
        "        # zero the parameter gradients\n",
        "        optimizer.zero_grad()\n",
        "\n",
        "        # forward + backward + optimize\n",
        "        outputs = net(inputs) # Feeding forward the input through the neural network (forwardd)\n",
        "        loss = criterion(outputs, labels) # Computes loss of diff  ouput to correct label (how far we are from correct outcome)\n",
        "        loss.backward() # Back propigation to go back and do optimizer.step()\n",
        "        optimizer.step() # Updates the parameter (using SGD to update the weights)\n",
        "\n",
        "        # print statistics\n",
        "        running_loss += loss.item()\n",
        "        if i % 2000 == 1999:    # Print every 2000 mini-batches\n",
        "            print(f'[{epoch + 1}, {i + 1:5d}] loss: {running_loss / 2000:.3f}')\n",
        "            running_loss = 0.0\n",
        "\n",
        "        # Accuracy test\n",
        "    correct = 0\n",
        "    total = 0\n",
        "    with torch.no_grad():\n",
        "        for data in testloader:\n",
        "            images, labels = data\n",
        "            outputs = net(images)\n",
        "            _, predicted = torch.max(outputs.data, 1)\n",
        "            total += labels.size(0)\n",
        "            correct += (predicted == labels).sum().item()\n",
        "\n",
        "    accuracy = 100 * correct / total\n",
        "    print(f'Accuracy on test set after epoch {epoch + 1}: {accuracy:.2f}%')\n",
        "\n",
        "print('Finished Training')\n",
        "#print(outputs)"
      ]
    },
    {
      "cell_type": "code",
      "metadata": {
        "id": "ZL_sboa1I1qq",
        "colab": {
          "base_uri": "https://localhost:8080/"
        },
        "outputId": "bac1af11-095c-4947-f796-011bf5783eb7"
      },
      "source": [
        "### Your code here. Also give some comments about your findings\n",
        "'''\n",
        "**a.** The training loss, accuracy [10 pt] <br>\n",
        "**b.** The test loss, accuracy [10 pt]\n",
        "**c.** Run the model for 20 epochs and give two plots (one for losses, one for accuracies) for the convergence behavior over 20 epochs. [10 pt]\n",
        "'''\n",
        "# Question 1 Part b\n",
        "for epoch in range(2):\n",
        "\n",
        "    running_loss = 0.0\n",
        "    for i, data in enumerate(testloader, 0):\n",
        "        inputs, labels = data\n",
        "\n",
        "        optimizer.zero_grad()\n",
        "\n",
        "        outputs = net(inputs)\n",
        "        loss = criterion(outputs, labels)\n",
        "        loss.backward()\n",
        "        optimizer.step()\n",
        "\n",
        "        running_loss += loss.item()\n",
        "        if i % 500 == 499:    # Print every 500 mini-batches\n",
        "            print(f'[{epoch + 1}, {i + 1:5d}] loss: {running_loss / 2000:.3f}')\n",
        "            running_loss = 0.0\n",
        "  # Accuracy test\n",
        "    correct = 0\n",
        "    total = 0\n",
        "    with torch.no_grad():\n",
        "        for data in testloader:\n",
        "            images, labels = data\n",
        "            outputs = net(images)\n",
        "            _, predicted = torch.max(outputs.data, 1)\n",
        "            total += labels.size(0)\n",
        "            correct += (predicted == labels).sum().item()\n",
        "\n",
        "    accuracy = 100 * correct / total\n",
        "    print(f'Accuracy on test set after epoch {epoch + 1}: {accuracy:.2f}%')\n",
        "\n",
        "print('Finished Testing')"
      ],
      "execution_count": null,
      "outputs": [
        {
          "output_type": "stream",
          "name": "stdout",
          "text": [
            "[1,   500] loss: 0.323\n",
            "[1,  1000] loss: 0.331\n",
            "[1,  1500] loss: 0.318\n",
            "[1,  2000] loss: 0.320\n",
            "[1,  2500] loss: 0.324\n",
            "Accuracy on test set after epoch 1: 58.86%\n",
            "[2,   500] loss: 0.293\n",
            "[2,  1000] loss: 0.301\n",
            "[2,  1500] loss: 0.287\n",
            "[2,  2000] loss: 0.292\n",
            "[2,  2500] loss: 0.295\n",
            "Accuracy on test set after epoch 2: 61.91%\n",
            "Finished Testing\n"
          ]
        }
      ]
    },
    {
      "cell_type": "code",
      "source": [
        "losses = []\n",
        "accuracies = []\n",
        "end_loss = 0\n",
        "for epoch in range(20):\n",
        "    running_loss = 0.0\n",
        "    correct = 0\n",
        "    total = 0\n",
        "    for i, data in enumerate(trainloader, 0):\n",
        "        inputs, labels = data\n",
        "        optimizer.zero_grad()\n",
        "        outputs = net(inputs)\n",
        "        loss = criterion(outputs, labels)\n",
        "        loss.backward()\n",
        "        optimizer.step()\n",
        "        running_loss += loss.item()\n",
        "        _, predicted = torch.max(outputs.data, 1)\n",
        "        total += labels.size(0)\n",
        "        correct += (predicted == labels).sum().item()\n",
        "        if i % 2000 == 1999:    # Print every 2000 mini-batches\n",
        "            print(f'[{epoch + 1}, {i + 1:5d}] loss: {running_loss / 2000:.3f}')\n",
        "            end_loss = running_loss/2000\n",
        "            running_loss = 0.0\n",
        "    # Calculating accuracy\n",
        "    accuracy = 100 * correct / total\n",
        "    accuracies.append(accuracy)\n",
        "    losses.append(end_loss)\n",
        "    print(f'Epoch {epoch + 1}, Loss: {end_loss:.3f}, Accuracy: {accuracy:.2f}%')\n",
        "# Creating plot figure\n",
        "plt.figure(figsize=(10, 5))\n",
        "# Plotting the loss\n",
        "plt.subplot(1, 2, 1)\n",
        "plt.plot(losses, label='Training Loss')\n",
        "plt.title('Training Loss over Epochs')\n",
        "plt.xlabel('Epochs')\n",
        "plt.ylabel('Loss')\n",
        "# Plotting the accuracy\n",
        "plt.subplot(1, 2, 2)\n",
        "plt.plot(accuracies, label='Training Accuracy')\n",
        "plt.title('Training Accuracy over Epochs')\n",
        "plt.xlabel('Epochs')\n",
        "plt.ylabel('Accuracy')\n",
        "plt.show()\n",
        "print(\"Finished Training Over 20 Epochs\")"
      ],
      "metadata": {
        "colab": {
          "base_uri": "https://localhost:8080/",
          "height": 1000
        },
        "id": "q1g4vMEp4tfp",
        "outputId": "17dbdff0-7499-4526-e3b8-7ab912deb77f"
      },
      "execution_count": null,
      "outputs": [
        {
          "output_type": "stream",
          "name": "stdout",
          "text": [
            "[1,  2000] loss: 1.239\n",
            "[1,  4000] loss: 1.243\n",
            "[1,  6000] loss: 1.212\n",
            "[1,  8000] loss: 1.219\n",
            "[1, 10000] loss: 1.209\n",
            "[1, 12000] loss: 1.197\n",
            "Epoch 1, Loss: 1.197, Accuracy: 56.86%\n",
            "[2,  2000] loss: 1.126\n",
            "[2,  4000] loss: 1.113\n",
            "[2,  6000] loss: 1.134\n",
            "[2,  8000] loss: 1.142\n",
            "[2, 10000] loss: 1.149\n",
            "[2, 12000] loss: 1.106\n",
            "Epoch 2, Loss: 1.106, Accuracy: 60.09%\n",
            "[3,  2000] loss: 1.037\n",
            "[3,  4000] loss: 1.038\n",
            "[3,  6000] loss: 1.054\n",
            "[3,  8000] loss: 1.083\n",
            "[3, 10000] loss: 1.078\n",
            "[3, 12000] loss: 1.071\n",
            "Epoch 3, Loss: 1.071, Accuracy: 62.48%\n",
            "[4,  2000] loss: 0.968\n",
            "[4,  4000] loss: 1.009\n",
            "[4,  6000] loss: 0.992\n",
            "[4,  8000] loss: 1.005\n",
            "[4, 10000] loss: 1.016\n",
            "[4, 12000] loss: 1.044\n",
            "Epoch 4, Loss: 1.044, Accuracy: 64.62%\n",
            "[5,  2000] loss: 0.934\n",
            "[5,  4000] loss: 0.905\n",
            "[5,  6000] loss: 0.970\n",
            "[5,  8000] loss: 0.955\n",
            "[5, 10000] loss: 0.982\n",
            "[5, 12000] loss: 0.985\n",
            "Epoch 5, Loss: 0.985, Accuracy: 66.08%\n",
            "[6,  2000] loss: 0.876\n",
            "[6,  4000] loss: 0.911\n",
            "[6,  6000] loss: 0.903\n",
            "[6,  8000] loss: 0.943\n",
            "[6, 10000] loss: 0.943\n",
            "[6, 12000] loss: 0.960\n",
            "Epoch 6, Loss: 0.960, Accuracy: 67.45%\n",
            "[7,  2000] loss: 0.841\n",
            "[7,  4000] loss: 0.859\n",
            "[7,  6000] loss: 0.887\n",
            "[7,  8000] loss: 0.891\n",
            "[7, 10000] loss: 0.921\n",
            "[7, 12000] loss: 0.917\n",
            "Epoch 7, Loss: 0.917, Accuracy: 68.69%\n",
            "[8,  2000] loss: 0.790\n",
            "[8,  4000] loss: 0.826\n",
            "[8,  6000] loss: 0.856\n",
            "[8,  8000] loss: 0.878\n",
            "[8, 10000] loss: 0.861\n",
            "[8, 12000] loss: 0.893\n",
            "Epoch 8, Loss: 0.893, Accuracy: 69.69%\n",
            "[9,  2000] loss: 0.796\n",
            "[9,  4000] loss: 0.794\n",
            "[9,  6000] loss: 0.829\n",
            "[9,  8000] loss: 0.841\n",
            "[9, 10000] loss: 0.846\n",
            "[9, 12000] loss: 0.855\n",
            "Epoch 9, Loss: 0.855, Accuracy: 70.65%\n",
            "[10,  2000] loss: 0.740\n",
            "[10,  4000] loss: 0.791\n",
            "[10,  6000] loss: 0.793\n",
            "[10,  8000] loss: 0.818\n",
            "[10, 10000] loss: 0.828\n",
            "[10, 12000] loss: 0.857\n",
            "Epoch 10, Loss: 0.857, Accuracy: 71.35%\n",
            "[11,  2000] loss: 0.732\n",
            "[11,  4000] loss: 0.749\n",
            "[11,  6000] loss: 0.796\n",
            "[11,  8000] loss: 0.785\n",
            "[11, 10000] loss: 0.822\n",
            "[11, 12000] loss: 0.825\n",
            "Epoch 11, Loss: 0.825, Accuracy: 72.16%\n",
            "[12,  2000] loss: 0.718\n",
            "[12,  4000] loss: 0.750\n",
            "[12,  6000] loss: 0.746\n",
            "[12,  8000] loss: 0.787\n",
            "[12, 10000] loss: 0.810\n",
            "[12, 12000] loss: 0.808\n",
            "Epoch 12, Loss: 0.808, Accuracy: 72.61%\n",
            "[13,  2000] loss: 0.698\n",
            "[13,  4000] loss: 0.742\n",
            "[13,  6000] loss: 0.755\n",
            "[13,  8000] loss: 0.757\n",
            "[13, 10000] loss: 0.767\n",
            "[13, 12000] loss: 0.787\n",
            "Epoch 13, Loss: 0.787, Accuracy: 73.43%\n",
            "[14,  2000] loss: 0.668\n",
            "[14,  4000] loss: 0.709\n",
            "[14,  6000] loss: 0.748\n",
            "[14,  8000] loss: 0.743\n",
            "[14, 10000] loss: 0.777\n",
            "[14, 12000] loss: 0.788\n",
            "Epoch 14, Loss: 0.788, Accuracy: 73.69%\n",
            "[15,  2000] loss: 0.671\n",
            "[15,  4000] loss: 0.700\n",
            "[15,  6000] loss: 0.728\n",
            "[15,  8000] loss: 0.743\n",
            "[15, 10000] loss: 0.748\n",
            "[15, 12000] loss: 0.805\n",
            "Epoch 15, Loss: 0.805, Accuracy: 73.90%\n",
            "[16,  2000] loss: 0.659\n",
            "[16,  4000] loss: 0.666\n",
            "[16,  6000] loss: 0.704\n",
            "[16,  8000] loss: 0.717\n",
            "[16, 10000] loss: 0.748\n",
            "[16, 12000] loss: 0.763\n",
            "Epoch 16, Loss: 0.763, Accuracy: 74.79%\n",
            "[17,  2000] loss: 0.627\n",
            "[17,  4000] loss: 0.674\n",
            "[17,  6000] loss: 0.709\n",
            "[17,  8000] loss: 0.707\n",
            "[17, 10000] loss: 0.745\n",
            "[17, 12000] loss: 0.757\n",
            "Epoch 17, Loss: 0.757, Accuracy: 75.10%\n",
            "[18,  2000] loss: 0.626\n",
            "[18,  4000] loss: 0.656\n",
            "[18,  6000] loss: 0.676\n",
            "[18,  8000] loss: 0.718\n",
            "[18, 10000] loss: 0.758\n",
            "[18, 12000] loss: 0.746\n",
            "Epoch 18, Loss: 0.746, Accuracy: 75.41%\n",
            "[19,  2000] loss: 0.615\n",
            "[19,  4000] loss: 0.661\n",
            "[19,  6000] loss: 0.695\n",
            "[19,  8000] loss: 0.716\n",
            "[19, 10000] loss: 0.716\n",
            "[19, 12000] loss: 0.747\n",
            "Epoch 19, Loss: 0.747, Accuracy: 75.34%\n",
            "[20,  2000] loss: 0.612\n",
            "[20,  4000] loss: 0.653\n",
            "[20,  6000] loss: 0.706\n",
            "[20,  8000] loss: 0.686\n",
            "[20, 10000] loss: 0.713\n",
            "[20, 12000] loss: 0.730\n",
            "Epoch 20, Loss: 0.730, Accuracy: 75.52%\n"
          ]
        },
        {
          "output_type": "display_data",
          "data": {
            "text/plain": [
              "<Figure size 1000x500 with 2 Axes>"
            ],
            "image/png": "[encoded data removed]"
          },
          "metadata": {}
        },
        {
          "output_type": "stream",
          "name": "stdout",
          "text": [
            "Finished Training Over 20 Epochs\n"
          ]
        }
      ]
    },
    {
      "cell_type": "code",
      "metadata": {
        "id": "IllLoXxGAIIo"
      },
      "source": [
        "# For grader use only\n",
        "\n",
        "\n",
        "maxScore = maxScore + 30\n"
      ],
      "execution_count": null,
      "outputs": []
    },
    {
      "cell_type": "markdown",
      "source": [
        "------------------------------\n",
        "------------------------------\n",
        "------------------------------"
      ],
      "metadata": {
        "id": "oko-ZnXEpBMc"
      }
    },
    {
      "cell_type": "markdown",
      "metadata": {
        "id": "XuJnvM2n3xwe"
      },
      "source": [
        "## <font color='blue'> **Question 2.** Learning random labels. </font>\n",
        "\n",
        "Reuse the above code, but instead of using the given input labels on the training set, use random labels. Then run for 40 epochs.\n",
        "<br>\n",
        "\n",
        "**a.** Report the plots for the training accuracy. **[10 pt]** <br>\n",
        "**b.** What is the final training accuracy and final testing accuracy? **[10 pt]** <br>\n",
        "**c.** What would be the expected accuracy for a random baseline model? **[10 pt]**\n",
        "\n",
        "\n",
        "\n"
      ]
    },
    {
      "cell_type": "code",
      "source": [
        "## your code goes here\n",
        "\n",
        "# initialize the model\n",
        "net = Net()\n",
        "criterion = nn.CrossEntropyLoss()\n",
        "optimizer = optim.SGD(net.parameters(), lr=0.001, momentum=0.9)\n",
        "losses = []\n",
        "accuracies = []\n",
        "# Training process\n",
        "for epoch in range(40):\n",
        "    running_loss = 0.0\n",
        "    correct = 0\n",
        "    total = 0\n",
        "\n",
        "    for i, data in enumerate(trainloader, 0):\n",
        "        inputs, _ = data\n",
        "        labels = torch.randint(0, 10, (inputs.size(0),))\n",
        "        optimizer.zero_grad()\n",
        "        outputs = net(inputs)\n",
        "        loss = criterion(outputs, labels)\n",
        "        loss.backward()\n",
        "        optimizer.step()\n",
        "        running_loss += loss.item()\n",
        "        _, predicted = torch.max(outputs.data, 1)\n",
        "        total += labels.size(0)\n",
        "        correct += (predicted == labels).sum().item()\n",
        "        #if i % 2000 == 1999:    # print every 2000 mini-batches\n",
        "           #print(f'[{epoch + 1}, {i + 1:5d}] loss: {running_loss / 2000:.3f}')\n",
        "            #running_loss = 0.0\n",
        "    # Calculate accuracy\n",
        "    accuracy = 100 * correct / total\n",
        "    accuracies.append(accuracy)\n",
        "    losses.append(end_loss)\n",
        "    print(f'Epoch {epoch + 1}, Loss: {end_loss:.3f}, Accuracy: {accuracy:.2f}%')\n",
        "\n",
        "# Plotting the Traing Accuracy\n",
        "plt.figure(figsize=(10, 5))\n",
        "plt.subplot(1, 2, 1)\n",
        "plt.plot(accuracies, label='Training Accuracy')\n",
        "plt.title('Training Accuracy over Epochs')\n",
        "plt.xlabel('Epochs')\n",
        "plt.ylabel('Accuracy')\n",
        "\n",
        "\n",
        "plt.show()\n",
        "\n",
        "print('Finished Training Over 40 Epochs')\n",
        "losses = []\n",
        "accuracies = []\n",
        "# Training process\n",
        "for epoch in range(40):\n",
        "    running_loss = 0.0\n",
        "    correct = 0\n",
        "    total = 0\n",
        "\n",
        "    for i, data in enumerate(testloader, 0):\n",
        "        inputs, _ = data\n",
        "        labels = torch.randint(0, 10, (inputs.size(0),))\n",
        "        optimizer.zero_grad()\n",
        "        outputs = net(inputs)\n",
        "        loss = criterion(outputs, labels)\n",
        "        loss.backward()\n",
        "        optimizer.step()\n",
        "        running_loss += loss.item()\n",
        "        _, predicted = torch.max(outputs.data, 1)\n",
        "        total += labels.size(0)\n",
        "        correct += (predicted == labels).sum().item()\n",
        "        #if i % 2000 == 1999:    # print every 2000 mini-batches\n",
        "            #print(f'[{epoch + 1}, {i + 1:5d}] loss: {running_loss / 2000:.3f}')\n",
        "            #running_loss = 0.0\n",
        "    # Calculate accuracy\n",
        "    accuracy = 100 * correct / total\n",
        "    accuracies.append(accuracy)\n",
        "    losses.append(end_loss)\n",
        "    print(f'Epoch {epoch + 1}, Loss: {end_loss:.3f}, Accuracy: {accuracy:.2f}%')\n",
        "\n",
        "# Plotting the accuracies for testing\n",
        "plt.figure(figsize=(10, 5))\n",
        "plt.subplot(1, 2, 2)\n",
        "plt.plot(accuracies, label='Testing Accuracy', color='blue')\n",
        "plt.title('Testing Accuracy over Epochs')\n",
        "plt.xlabel('Epochs')\n",
        "plt.ylabel('Accuracy')\n",
        "\n",
        "plt.show()\n",
        "\n",
        "print('Finished Testing Over 40 Epochs')"
      ],
      "metadata": {
        "id": "vpgPvakW5_mj",
        "colab": {
          "base_uri": "https://localhost:8080/",
          "height": 1000
        },
        "outputId": "a05b98c3-65dc-4397-c8a6-57085a923f8c"
      },
      "execution_count": null,
      "outputs": [
        {
          "output_type": "stream",
          "name": "stdout",
          "text": [
            "Epoch 1, Loss: 0.730, Accuracy: 9.83%\n",
            "Epoch 2, Loss: 0.730, Accuracy: 9.87%\n",
            "Epoch 3, Loss: 0.730, Accuracy: 9.76%\n",
            "Epoch 4, Loss: 0.730, Accuracy: 9.99%\n",
            "Epoch 5, Loss: 0.730, Accuracy: 10.14%\n",
            "Epoch 6, Loss: 0.730, Accuracy: 9.84%\n",
            "Epoch 7, Loss: 0.730, Accuracy: 9.89%\n",
            "Epoch 8, Loss: 0.730, Accuracy: 10.26%\n",
            "Epoch 9, Loss: 0.730, Accuracy: 9.81%\n",
            "Epoch 10, Loss: 0.730, Accuracy: 9.84%\n",
            "Epoch 11, Loss: 0.730, Accuracy: 10.15%\n",
            "Epoch 12, Loss: 0.730, Accuracy: 10.10%\n",
            "Epoch 13, Loss: 0.730, Accuracy: 10.12%\n",
            "Epoch 14, Loss: 0.730, Accuracy: 9.78%\n",
            "Epoch 15, Loss: 0.730, Accuracy: 9.97%\n",
            "Epoch 16, Loss: 0.730, Accuracy: 10.13%\n",
            "Epoch 17, Loss: 0.730, Accuracy: 9.97%\n",
            "Epoch 18, Loss: 0.730, Accuracy: 10.09%\n",
            "Epoch 19, Loss: 0.730, Accuracy: 9.63%\n",
            "Epoch 20, Loss: 0.730, Accuracy: 9.96%\n",
            "Epoch 21, Loss: 0.730, Accuracy: 10.07%\n",
            "Epoch 22, Loss: 0.730, Accuracy: 9.87%\n",
            "Epoch 23, Loss: 0.730, Accuracy: 9.63%\n",
            "Epoch 24, Loss: 0.730, Accuracy: 10.03%\n",
            "Epoch 25, Loss: 0.730, Accuracy: 10.08%\n",
            "Epoch 26, Loss: 0.730, Accuracy: 10.00%\n",
            "Epoch 27, Loss: 0.730, Accuracy: 10.20%\n",
            "Epoch 28, Loss: 0.730, Accuracy: 9.95%\n",
            "Epoch 29, Loss: 0.730, Accuracy: 9.82%\n",
            "Epoch 30, Loss: 0.730, Accuracy: 10.01%\n",
            "Epoch 31, Loss: 0.730, Accuracy: 10.01%\n",
            "Epoch 32, Loss: 0.730, Accuracy: 10.10%\n",
            "Epoch 33, Loss: 0.730, Accuracy: 9.93%\n",
            "Epoch 34, Loss: 0.730, Accuracy: 10.10%\n",
            "Epoch 35, Loss: 0.730, Accuracy: 10.02%\n",
            "Epoch 36, Loss: 0.730, Accuracy: 9.93%\n",
            "Epoch 37, Loss: 0.730, Accuracy: 9.87%\n",
            "Epoch 38, Loss: 0.730, Accuracy: 9.95%\n",
            "Epoch 39, Loss: 0.730, Accuracy: 10.05%\n",
            "Epoch 40, Loss: 0.730, Accuracy: 9.99%\n"
          ]
        },
        {
          "output_type": "display_data",
          "data": {
            "text/plain": [
              "<Figure size 1000x500 with 1 Axes>"
            ],
            "image/png": "[encoded data removed]"
          },
          "metadata": {}
        },
        {
          "output_type": "stream",
          "name": "stdout",
          "text": [
            "Finished Training Over 40 Epochs\n",
            "Epoch 1, Loss: 0.730, Accuracy: 10.04%\n",
            "Epoch 2, Loss: 0.730, Accuracy: 9.52%\n",
            "Epoch 3, Loss: 0.730, Accuracy: 9.75%\n",
            "Epoch 4, Loss: 0.730, Accuracy: 9.76%\n",
            "Epoch 5, Loss: 0.730, Accuracy: 9.87%\n",
            "Epoch 6, Loss: 0.730, Accuracy: 9.27%\n",
            "Epoch 7, Loss: 0.730, Accuracy: 9.90%\n",
            "Epoch 8, Loss: 0.730, Accuracy: 9.83%\n",
            "Epoch 9, Loss: 0.730, Accuracy: 10.09%\n",
            "Epoch 10, Loss: 0.730, Accuracy: 10.02%\n",
            "Epoch 11, Loss: 0.730, Accuracy: 10.27%\n",
            "Epoch 12, Loss: 0.730, Accuracy: 10.21%\n",
            "Epoch 13, Loss: 0.730, Accuracy: 10.90%\n",
            "Epoch 14, Loss: 0.730, Accuracy: 9.94%\n",
            "Epoch 15, Loss: 0.730, Accuracy: 9.75%\n",
            "Epoch 16, Loss: 0.730, Accuracy: 9.89%\n",
            "Epoch 17, Loss: 0.730, Accuracy: 10.12%\n",
            "Epoch 18, Loss: 0.730, Accuracy: 10.20%\n",
            "Epoch 19, Loss: 0.730, Accuracy: 9.97%\n",
            "Epoch 20, Loss: 0.730, Accuracy: 9.99%\n",
            "Epoch 21, Loss: 0.730, Accuracy: 9.97%\n",
            "Epoch 22, Loss: 0.730, Accuracy: 9.97%\n",
            "Epoch 23, Loss: 0.730, Accuracy: 9.97%\n",
            "Epoch 24, Loss: 0.730, Accuracy: 9.79%\n",
            "Epoch 25, Loss: 0.730, Accuracy: 9.83%\n",
            "Epoch 26, Loss: 0.730, Accuracy: 10.12%\n",
            "Epoch 27, Loss: 0.730, Accuracy: 10.30%\n",
            "Epoch 28, Loss: 0.730, Accuracy: 9.60%\n",
            "Epoch 29, Loss: 0.730, Accuracy: 10.61%\n",
            "Epoch 30, Loss: 0.730, Accuracy: 9.92%\n",
            "Epoch 31, Loss: 0.730, Accuracy: 9.80%\n",
            "Epoch 32, Loss: 0.730, Accuracy: 9.92%\n",
            "Epoch 33, Loss: 0.730, Accuracy: 9.62%\n",
            "Epoch 34, Loss: 0.730, Accuracy: 9.83%\n",
            "Epoch 35, Loss: 0.730, Accuracy: 9.60%\n",
            "Epoch 36, Loss: 0.730, Accuracy: 9.84%\n",
            "Epoch 37, Loss: 0.730, Accuracy: 10.74%\n",
            "Epoch 38, Loss: 0.730, Accuracy: 10.18%\n",
            "Epoch 39, Loss: 0.730, Accuracy: 10.42%\n",
            "Epoch 40, Loss: 0.730, Accuracy: 10.27%\n"
          ]
        },
        {
          "output_type": "display_data",
          "data": {
            "text/plain": [
              "<Figure size 1000x500 with 1 Axes>"
            ],
            "image/png": "[encoded data removed]"
          },
          "metadata": {}
        },
        {
          "output_type": "stream",
          "name": "stdout",
          "text": [
            "Finished Testing Over 40 Epochs\n"
          ]
        }
      ]
    },
    {
      "cell_type": "markdown",
      "source": [
        "b. The final training accuracy is 9.99%and final testing accuracy is 10.27%.<br>\n",
        "c. The expected accuracy for a random baseline model would be 10% since if we are randomly picking a correct answer from 10 options we would expect to get 1 right out of 10 and that would be a 10% probability of success."
      ],
      "metadata": {
        "id": "Uvxr6KgneEhJ"
      }
    },
    {
      "cell_type": "code",
      "metadata": {
        "id": "F4Hy_Qqw6S39"
      },
      "source": [
        "# For grader use only\n",
        "\n",
        "\n",
        "maxScore = maxScore + 30\n"
      ],
      "execution_count": null,
      "outputs": []
    },
    {
      "cell_type": "markdown",
      "source": [
        "------------------------------\n",
        "------------------------------\n",
        "------------------------------"
      ],
      "metadata": {
        "id": "H-1GJYqC5-pg"
      }
    },
    {
      "cell_type": "markdown",
      "metadata": {
        "id": "yYOedRCd8JHV"
      },
      "source": [
        "## <font color='blue'> **Question 3.** Modifying the model for MNIST. </font>\n",
        "\n",
        "Let's now work with the MNIST dataset.\n",
        "<br>\n",
        "\n",
        "**a.** Download and prepare the dataloaders for the standard MNIST dataset. **[10 pt]** <br>\n",
        "**b.** Modify the model so that it works with the MNIST dataset. The inner array sizes should be roughly similar, but you can adjust them in the way you choose **[20 pt]** <br>\n",
        "**c.** Report the training and test accuracy after 10 epochs **[10 pt]**\n",
        "\n",
        "\n",
        "\n"
      ]
    },
    {
      "cell_type": "code",
      "source": [
        "## your code goes\n",
        "transform = transforms.Compose(\n",
        "    [transforms.ToTensor(),\n",
        "     transforms.Normalize((0.5,), (0.5, ))])\n",
        "\n",
        "batch_size = 20\n",
        "\n",
        "trainset = torchvision.datasets.MNIST(root='./mnistdata', train=True,\n",
        "                                        download=True, transform=transform)\n",
        "trainloader = torch.utils.data.DataLoader(trainset, batch_size=batch_size,\n",
        "                                          shuffle=True)\n",
        "\n",
        "testset = torchvision.datasets.MNIST(root='./mnistdata', train=False,\n",
        "                                       download=True, transform=transform)\n",
        "testloader = torch.utils.data.DataLoader(testset, batch_size=batch_size,\n",
        "                                         shuffle=False)\n",
        "\n",
        "classes = ('0', '1', '2', '3','4', '5', '6', '7', '8', '9')"
      ],
      "metadata": {
        "id": "6TfuUCRt8RSA"
      },
      "execution_count": null,
      "outputs": []
    },
    {
      "cell_type": "code",
      "source": [
        "import torch.nn as nn\n",
        "import torch.nn.functional as F\n",
        "class Net(nn.Module):\n",
        "    def __init__(self):\n",
        "        super().__init__()\n",
        "        self.conv1 = nn.Conv2d(1, 32, 3)\n",
        "        self.conv2 = nn.Conv2d(32, 64, 3)\n",
        "        self.dropout1 = nn.Dropout(0.25)\n",
        "        self.dropout2 = nn.Dropout(0.5)\n",
        "        self.fc1 = nn.Linear(9216, 128)\n",
        "        self.fc2 = nn.Linear(128, 10)\n",
        "\n",
        "    def forward(self, x):\n",
        "        x = F.relu(self.conv1(x))\n",
        "        x = F.relu(self.conv2(x))\n",
        "        x = F.max_pool2d(x,2)\n",
        "        x = self.dropout1(x)\n",
        "        x = torch.flatten(x, 1)\n",
        "        x = self.fc1(x)\n",
        "        x = F.relu(x)\n",
        "        x = self.dropout2(x)\n",
        "        x = self.fc2(x)\n",
        "        return x\n",
        "# we go through the first conv layer then we activat func then get the max pooling, do it again for the second layer then flatten it to be scalar then we put the act fun over twice to then get the last output self.fc(x)\n",
        "# initialize the model\n",
        "net = Net()"
      ],
      "metadata": {
        "id": "WrfWBb6GgApq"
      },
      "execution_count": null,
      "outputs": []
    },
    {
      "cell_type": "code",
      "source": [
        "import torch.optim as optim\n",
        "criterion = nn.CrossEntropyLoss() # loss function to calclate loss\n",
        "optimizer = optim.SGD(net.parameters(), lr=0.001, momentum=0.9) # this our optimization function using SGD"
      ],
      "metadata": {
        "id": "FIQq4ZidgBlv"
      },
      "execution_count": null,
      "outputs": []
    },
    {
      "cell_type": "code",
      "source": [
        "accuracies = []\n",
        "# Training process\n",
        "for epoch in range(10):\n",
        "    running_loss = 0.0\n",
        "    correct = 0\n",
        "    total = 0\n",
        "\n",
        "    for i, data in enumerate(trainloader, 0):\n",
        "        inputs, labels = data\n",
        "        optimizer.zero_grad()\n",
        "        outputs = net(inputs)\n",
        "        loss = criterion(outputs, labels)\n",
        "        loss.backward()\n",
        "        optimizer.step()\n",
        "        running_loss += loss.item()\n",
        "        _, predicted = torch.max(outputs.data, 1)\n",
        "        total += labels.size(0)\n",
        "        correct += (predicted == labels).sum().item()\n",
        "        #if i % 2000 == 1999:    # print every 2000 mini-batches\n",
        "           #print(f'[{epoch + 1}, {i + 1:5d}] loss: {running_loss / 2000:.3f}')\n",
        "            #running_loss = 0.0\n",
        "    # Calculate accuracy\n",
        "    accuracy = 100 * correct / total\n",
        "    accuracies.append(accuracy)\n",
        "    losses.append(end_loss)\n",
        "    print(f'Epoch {epoch + 1}, Accuracy: {accuracy:.2f}%')\n",
        "plt.figure(figsize=(10, 5))\n",
        "plt.subplot(1, 2, 1)\n",
        "plt.plot(accuracies, label='Training Accuracy')\n",
        "plt.title('Training Accuracy over Epochs')\n",
        "plt.xlabel('Epochs')\n",
        "plt.ylabel('Accuracy')\n",
        "plt.show()\n",
        "print('Finished Training Over 10 Epochs')\n",
        "\n",
        "\n",
        "accuracies = []\n",
        "# Testing process\n",
        "for epoch in range(10):\n",
        "    running_loss = 0.0\n",
        "    correct = 0\n",
        "    total = 0\n",
        "\n",
        "    for i, data in enumerate(testloader, 0):\n",
        "        inputs, labels = data\n",
        "        optimizer.zero_grad()\n",
        "        outputs = net(inputs)\n",
        "        loss = criterion(outputs, labels)\n",
        "        loss.backward()\n",
        "        optimizer.step()\n",
        "        running_loss += loss.item()\n",
        "        _, predicted = torch.max(outputs.data, 1)\n",
        "        total += labels.size(0)\n",
        "        correct += (predicted == labels).sum().item()\n",
        "        #if i % 2000 == 1999:    # print every 2000 mini-batches\n",
        "           #print(f'[{epoch + 1}, {i + 1:5d}] loss: {running_loss / 2000:.3f}')\n",
        "            #running_loss = 0.0\n",
        "    # Calculate accuracy\n",
        "    accuracy = 100 * correct / total\n",
        "    accuracies.append(accuracy)\n",
        "    losses.append(end_loss)\n",
        "    print(f'Epoch {epoch + 1}, Accuracy: {accuracy:.2f}%')\n",
        "plt.figure(figsize=(10, 5))\n",
        "plt.subplot(1, 2, 2)\n",
        "plt.plot(accuracies, label='Testing Accuracy')\n",
        "plt.title('Training Accuracy over Epochs')\n",
        "plt.xlabel('Epochs')\n",
        "plt.ylabel('Accuracy')\n",
        "plt.show()\n",
        "print('Finished Testing Over 10 Epochs')"
      ],
      "metadata": {
        "colab": {
          "base_uri": "https://localhost:8080/",
          "height": 1000
        },
        "id": "41myEjvg3uh0",
        "outputId": "72cf8c58-d451-4467-d048-e7a9f22ee108"
      },
      "execution_count": null,
      "outputs": [
        {
          "output_type": "stream",
          "name": "stdout",
          "text": [
            "Epoch 1, Accuracy: 85.64%\n",
            "Epoch 2, Accuracy: 95.81%\n",
            "Epoch 3, Accuracy: 96.92%\n",
            "Epoch 4, Accuracy: 97.49%\n",
            "Epoch 5, Accuracy: 97.83%\n",
            "Epoch 6, Accuracy: 97.99%\n",
            "Epoch 7, Accuracy: 98.26%\n",
            "Epoch 8, Accuracy: 98.42%\n",
            "Epoch 9, Accuracy: 98.45%\n",
            "Epoch 10, Accuracy: 98.58%\n"
          ]
        },
        {
          "output_type": "display_data",
          "data": {
            "text/plain": [
              "<Figure size 1000x500 with 1 Axes>"
            ],
            "image/png": "[encoded data removed]"
          },
          "metadata": {}
        },
        {
          "output_type": "stream",
          "name": "stdout",
          "text": [
            "Finished Training Over 10 Epochs\n",
            "Epoch 1, Accuracy: 98.32%\n",
            "Epoch 2, Accuracy: 98.57%\n",
            "Epoch 3, Accuracy: 98.45%\n",
            "Epoch 4, Accuracy: 98.85%\n",
            "Epoch 5, Accuracy: 99.04%\n",
            "Epoch 6, Accuracy: 99.11%\n",
            "Epoch 7, Accuracy: 99.15%\n",
            "Epoch 8, Accuracy: 99.05%\n",
            "Epoch 9, Accuracy: 99.22%\n",
            "Epoch 10, Accuracy: 99.45%\n"
          ]
        },
        {
          "output_type": "display_data",
          "data": {
            "text/plain": [
              "<Figure size 1000x500 with 1 Axes>"
            ],
            "image/png": "[encoded data removed]"
          },
          "metadata": {}
        },
        {
          "output_type": "stream",
          "name": "stdout",
          "text": [
            "Finished Testing Over 10 Epochs\n"
          ]
        }
      ]
    },
    {
      "cell_type": "markdown",
      "source": [
        "C. The Training Acccuracy after 10 epochs is 98.58%. The Testing accuracy after 10 epcohs is 99.45%."
      ],
      "metadata": {
        "id": "okBHlFVxlQT1"
      }
    },
    {
      "cell_type": "code",
      "metadata": {
        "id": "pSWFyJ_k7-cT"
      },
      "source": [
        "# For grader use only\n",
        "\n",
        "\n",
        "\n",
        "maxScore = maxScore + 40\n"
      ],
      "execution_count": null,
      "outputs": []
    },
    {
      "cell_type": "markdown",
      "source": [
        "------------------------------\n",
        "------------------------------\n",
        "------------------------------"
      ],
      "metadata": {
        "id": "0QM-Sapd-xOI"
      }
    },
    {
      "cell_type": "markdown",
      "metadata": {
        "id": "vllcX_eV-nTw"
      },
      "source": [
        "## <font color='blue'> **Question 4.** MNIST on randomly permuted images. [**optional**]</font>\n",
        "\n",
        "In this question we will see whether a CNN remains as effective for randomly permuted images.\n",
        "<br>\n",
        "\n",
        "**a.** Find a way to randomly permute the entries of a 2d array in numpy or a 2d tensor in PyTorch. This should be 2-3 lines of code - feel free to discuss it on Canvas. **[10 pt]** <br>\n",
        "**b.** Train the model from question 3 on a training set where the images in the training set have re-arranged in a **random** way, which however is the **same** across all images. **[20 pt]** <br>\n",
        "**c.** Report the training and test accuracy after 10 epochs, and after 20 epochs. **[10 pt]**\n",
        "\n",
        "\n",
        "\n"
      ]
    },
    {
      "cell_type": "code",
      "source": [
        "## your code goes here\n",
        "# part a using np.random.shuffle\n",
        "import numpy as np\n",
        "x = np.random.random((4, 4))\n",
        "print(x)\n",
        "x = np.random.shuffle(x)\n",
        "print(x)"
      ],
      "metadata": {
        "id": "ahIO9qUvAmvE"
      },
      "execution_count": null,
      "outputs": []
    },
    {
      "cell_type": "code",
      "metadata": {
        "id": "DLCVKEDkAmvW"
      },
      "source": [
        "# For grader use only\n",
        "\n",
        "\n",
        "maxScore = maxScore + 40"
      ],
      "execution_count": null,
      "outputs": []
    },
    {
      "cell_type": "markdown",
      "source": [],
      "metadata": {
        "id": "mK6g1y403w7a"
      }
    },
    {
      "cell_type": "code",
      "metadata": {
        "id": "fydXo8GRGkbp"
      },
      "source": [
        "# for grader use\n",
        "\n",
        "# Total Grade Calculation\n",
        "\n",
        "score = actualScore*100/maxScore"
      ],
      "execution_count": null,
      "outputs": []
    }
  ]
}